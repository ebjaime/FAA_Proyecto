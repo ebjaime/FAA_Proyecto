{
 "cells": [
  {
   "cell_type": "code",
   "execution_count": 1,
   "metadata": {},
   "outputs": [],
   "source": [
    "import pandas as pd\n",
    "import matplotlib.pyplot as plt"
   ]
  },
  {
   "cell_type": "markdown",
   "metadata": {},
   "source": [
    "# Proyecto FAA"
   ]
  },
  {
   "cell_type": "markdown",
   "metadata": {},
   "source": [
    "Jorge Durán, Jaime Enríquez, Marcos de las Heras"
   ]
  },
  {
   "cell_type": "markdown",
   "metadata": {},
   "source": [
    "## Pre-análisis de datos"
   ]
  },
  {
   "cell_type": "markdown",
   "metadata": {},
   "source": [
    "**Metadata**:"
   ]
  },
  {
   "cell_type": "code",
   "execution_count": 2,
   "metadata": {},
   "outputs": [],
   "source": [
    "sensor_m = pd.read_csv(\"data/HT_Sensor_metadata.dat\", sep=\"\\t\")\n",
    "# Correccion: cabecera de metadata mal leido\n",
    "sensor_m.drop([\"dt\"], axis=1, inplace=True)\n",
    "sensor_m.rename(columns={\"t0\":\"dt\",\"class\":\"t0\", \"Unnamed: 2\":\"class\"}, inplace=True)"
   ]
  },
  {
   "cell_type": "code",
   "execution_count": 4,
   "metadata": {},
   "outputs": [
    {
     "data": {
      "text/html": [
       "<div>\n",
       "<style scoped>\n",
       "    .dataframe tbody tr th:only-of-type {\n",
       "        vertical-align: middle;\n",
       "    }\n",
       "\n",
       "    .dataframe tbody tr th {\n",
       "        vertical-align: top;\n",
       "    }\n",
       "\n",
       "    .dataframe thead th {\n",
       "        text-align: right;\n",
       "    }\n",
       "</style>\n",
       "<table border=\"1\" class=\"dataframe\">\n",
       "  <thead>\n",
       "    <tr style=\"text-align: right;\">\n",
       "      <th></th>\n",
       "      <th>id</th>\n",
       "      <th>date</th>\n",
       "      <th>class</th>\n",
       "      <th>t0</th>\n",
       "      <th>dt</th>\n",
       "    </tr>\n",
       "  </thead>\n",
       "  <tbody>\n",
       "    <tr>\n",
       "      <th>0</th>\n",
       "      <td>0</td>\n",
       "      <td>07-04-15</td>\n",
       "      <td>banana</td>\n",
       "      <td>13.49</td>\n",
       "      <td>1.64</td>\n",
       "    </tr>\n",
       "    <tr>\n",
       "      <th>1</th>\n",
       "      <td>1</td>\n",
       "      <td>07-05-15</td>\n",
       "      <td>wine</td>\n",
       "      <td>19.61</td>\n",
       "      <td>0.54</td>\n",
       "    </tr>\n",
       "    <tr>\n",
       "      <th>2</th>\n",
       "      <td>2</td>\n",
       "      <td>07-06-15</td>\n",
       "      <td>wine</td>\n",
       "      <td>19.99</td>\n",
       "      <td>0.66</td>\n",
       "    </tr>\n",
       "    <tr>\n",
       "      <th>3</th>\n",
       "      <td>3</td>\n",
       "      <td>07-09-15</td>\n",
       "      <td>banana</td>\n",
       "      <td>6.49</td>\n",
       "      <td>0.72</td>\n",
       "    </tr>\n",
       "    <tr>\n",
       "      <th>4</th>\n",
       "      <td>4</td>\n",
       "      <td>07-09-15</td>\n",
       "      <td>wine</td>\n",
       "      <td>20.07</td>\n",
       "      <td>0.53</td>\n",
       "    </tr>\n",
       "  </tbody>\n",
       "</table>\n",
       "</div>"
      ],
      "text/plain": [
       "   id      date   class     t0    dt\n",
       "0   0  07-04-15  banana  13.49  1.64\n",
       "1   1  07-05-15    wine  19.61  0.54\n",
       "2   2  07-06-15    wine  19.99  0.66\n",
       "3   3  07-09-15  banana   6.49  0.72\n",
       "4   4  07-09-15    wine  20.07  0.53"
      ]
     },
     "execution_count": 4,
     "metadata": {},
     "output_type": "execute_result"
    }
   ],
   "source": [
    "sensor_m.head()"
   ]
  },
  {
   "cell_type": "code",
   "execution_count": 5,
   "metadata": {},
   "outputs": [
    {
     "name": "stdout",
     "output_type": "stream",
     "text": [
      "<class 'pandas.core.frame.DataFrame'>\n",
      "RangeIndex: 100 entries, 0 to 99\n",
      "Data columns (total 5 columns):\n",
      " #   Column  Non-Null Count  Dtype  \n",
      "---  ------  --------------  -----  \n",
      " 0   id      100 non-null    int64  \n",
      " 1   date    100 non-null    object \n",
      " 2   class   100 non-null    object \n",
      " 3   t0      100 non-null    float64\n",
      " 4   dt      100 non-null    float64\n",
      "dtypes: float64(2), int64(1), object(2)\n",
      "memory usage: 4.0+ KB\n"
     ]
    }
   ],
   "source": [
    "sensor_m.info()"
   ]
  },
  {
   "cell_type": "code",
   "execution_count": 6,
   "metadata": {},
   "outputs": [
    {
     "data": {
      "text/html": [
       "<div>\n",
       "<style scoped>\n",
       "    .dataframe tbody tr th:only-of-type {\n",
       "        vertical-align: middle;\n",
       "    }\n",
       "\n",
       "    .dataframe tbody tr th {\n",
       "        vertical-align: top;\n",
       "    }\n",
       "\n",
       "    .dataframe thead th {\n",
       "        text-align: right;\n",
       "    }\n",
       "</style>\n",
       "<table border=\"1\" class=\"dataframe\">\n",
       "  <thead>\n",
       "    <tr style=\"text-align: right;\">\n",
       "      <th></th>\n",
       "      <th>id</th>\n",
       "      <th>t0</th>\n",
       "      <th>dt</th>\n",
       "    </tr>\n",
       "  </thead>\n",
       "  <tbody>\n",
       "    <tr>\n",
       "      <th>count</th>\n",
       "      <td>100.000000</td>\n",
       "      <td>100.000000</td>\n",
       "      <td>100.000000</td>\n",
       "    </tr>\n",
       "    <tr>\n",
       "      <th>mean</th>\n",
       "      <td>49.500000</td>\n",
       "      <td>13.178600</td>\n",
       "      <td>0.751600</td>\n",
       "    </tr>\n",
       "    <tr>\n",
       "      <th>std</th>\n",
       "      <td>29.011492</td>\n",
       "      <td>4.799102</td>\n",
       "      <td>0.428424</td>\n",
       "    </tr>\n",
       "    <tr>\n",
       "      <th>min</th>\n",
       "      <td>0.000000</td>\n",
       "      <td>5.620000</td>\n",
       "      <td>0.120000</td>\n",
       "    </tr>\n",
       "    <tr>\n",
       "      <th>25%</th>\n",
       "      <td>24.750000</td>\n",
       "      <td>8.320000</td>\n",
       "      <td>0.480000</td>\n",
       "    </tr>\n",
       "    <tr>\n",
       "      <th>50%</th>\n",
       "      <td>49.500000</td>\n",
       "      <td>13.385000</td>\n",
       "      <td>0.620000</td>\n",
       "    </tr>\n",
       "    <tr>\n",
       "      <th>75%</th>\n",
       "      <td>74.250000</td>\n",
       "      <td>16.380000</td>\n",
       "      <td>0.932500</td>\n",
       "    </tr>\n",
       "    <tr>\n",
       "      <th>max</th>\n",
       "      <td>99.000000</td>\n",
       "      <td>23.620000</td>\n",
       "      <td>2.310000</td>\n",
       "    </tr>\n",
       "  </tbody>\n",
       "</table>\n",
       "</div>"
      ],
      "text/plain": [
       "               id          t0          dt\n",
       "count  100.000000  100.000000  100.000000\n",
       "mean    49.500000   13.178600    0.751600\n",
       "std     29.011492    4.799102    0.428424\n",
       "min      0.000000    5.620000    0.120000\n",
       "25%     24.750000    8.320000    0.480000\n",
       "50%     49.500000   13.385000    0.620000\n",
       "75%     74.250000   16.380000    0.932500\n",
       "max     99.000000   23.620000    2.310000"
      ]
     },
     "execution_count": 6,
     "metadata": {},
     "output_type": "execute_result"
    }
   ],
   "source": [
    "sensor_m.describe()"
   ]
  },
  {
   "cell_type": "markdown",
   "metadata": {},
   "source": [
    "**Dataset**:"
   ]
  },
  {
   "cell_type": "code",
   "execution_count": 3,
   "metadata": {},
   "outputs": [],
   "source": [
    "sensor_d = pd.read_csv(\"data/HT_Sensor_dataset.dat\", sep=\"  \", engine=\"python\")\n",
    "# Correccion: datos de dataset mal leidos\n",
    "sensor_d.dropna(axis=1, inplace=True)\n",
    "sensor_d.columns=[\"id\",\"time\", \"R1\",\"R2\",\"R3\",\"R4\",\"R5\",\"R6\",\"R7\",\"R8\", \"Temp.\", \"Humidity\"]"
   ]
  },
  {
   "cell_type": "code",
   "execution_count": 7,
   "metadata": {},
   "outputs": [
    {
     "data": {
      "text/html": [
       "<div>\n",
       "<style scoped>\n",
       "    .dataframe tbody tr th:only-of-type {\n",
       "        vertical-align: middle;\n",
       "    }\n",
       "\n",
       "    .dataframe tbody tr th {\n",
       "        vertical-align: top;\n",
       "    }\n",
       "\n",
       "    .dataframe thead th {\n",
       "        text-align: right;\n",
       "    }\n",
       "</style>\n",
       "<table border=\"1\" class=\"dataframe\">\n",
       "  <thead>\n",
       "    <tr style=\"text-align: right;\">\n",
       "      <th></th>\n",
       "      <th>id</th>\n",
       "      <th>time</th>\n",
       "      <th>R1</th>\n",
       "      <th>R2</th>\n",
       "      <th>R3</th>\n",
       "      <th>R4</th>\n",
       "      <th>R5</th>\n",
       "      <th>R6</th>\n",
       "      <th>R7</th>\n",
       "      <th>R8</th>\n",
       "      <th>Temp.</th>\n",
       "      <th>Humidity</th>\n",
       "    </tr>\n",
       "  </thead>\n",
       "  <tbody>\n",
       "    <tr>\n",
       "      <th>0</th>\n",
       "      <td>0</td>\n",
       "      <td>-0.999750</td>\n",
       "      <td>12.8621</td>\n",
       "      <td>10.3683</td>\n",
       "      <td>10.4383</td>\n",
       "      <td>11.6699</td>\n",
       "      <td>13.4931</td>\n",
       "      <td>13.3423</td>\n",
       "      <td>8.04169</td>\n",
       "      <td>8.73901</td>\n",
       "      <td>26.2257</td>\n",
       "      <td>59.0528</td>\n",
       "    </tr>\n",
       "    <tr>\n",
       "      <th>1</th>\n",
       "      <td>0</td>\n",
       "      <td>-0.999472</td>\n",
       "      <td>12.8617</td>\n",
       "      <td>10.3682</td>\n",
       "      <td>10.4375</td>\n",
       "      <td>11.6697</td>\n",
       "      <td>13.4927</td>\n",
       "      <td>13.3412</td>\n",
       "      <td>8.04133</td>\n",
       "      <td>8.73908</td>\n",
       "      <td>26.2308</td>\n",
       "      <td>59.0299</td>\n",
       "    </tr>\n",
       "    <tr>\n",
       "      <th>2</th>\n",
       "      <td>0</td>\n",
       "      <td>-0.999194</td>\n",
       "      <td>12.8607</td>\n",
       "      <td>10.3686</td>\n",
       "      <td>10.4370</td>\n",
       "      <td>11.6696</td>\n",
       "      <td>13.4924</td>\n",
       "      <td>13.3405</td>\n",
       "      <td>8.04101</td>\n",
       "      <td>8.73915</td>\n",
       "      <td>26.2365</td>\n",
       "      <td>59.0093</td>\n",
       "    </tr>\n",
       "    <tr>\n",
       "      <th>3</th>\n",
       "      <td>0</td>\n",
       "      <td>-0.998916</td>\n",
       "      <td>12.8602</td>\n",
       "      <td>10.3686</td>\n",
       "      <td>10.4370</td>\n",
       "      <td>11.6697</td>\n",
       "      <td>13.4921</td>\n",
       "      <td>13.3398</td>\n",
       "      <td>8.04086</td>\n",
       "      <td>8.73936</td>\n",
       "      <td>26.2416</td>\n",
       "      <td>58.9905</td>\n",
       "    </tr>\n",
       "    <tr>\n",
       "      <th>4</th>\n",
       "      <td>0</td>\n",
       "      <td>-0.998627</td>\n",
       "      <td>12.8595</td>\n",
       "      <td>10.3688</td>\n",
       "      <td>10.4374</td>\n",
       "      <td>11.6699</td>\n",
       "      <td>13.4919</td>\n",
       "      <td>13.3390</td>\n",
       "      <td>8.04087</td>\n",
       "      <td>8.73986</td>\n",
       "      <td>26.2462</td>\n",
       "      <td>58.9736</td>\n",
       "    </tr>\n",
       "  </tbody>\n",
       "</table>\n",
       "</div>"
      ],
      "text/plain": [
       "   id      time       R1       R2       R3       R4       R5       R6  \\\n",
       "0   0 -0.999750  12.8621  10.3683  10.4383  11.6699  13.4931  13.3423   \n",
       "1   0 -0.999472  12.8617  10.3682  10.4375  11.6697  13.4927  13.3412   \n",
       "2   0 -0.999194  12.8607  10.3686  10.4370  11.6696  13.4924  13.3405   \n",
       "3   0 -0.998916  12.8602  10.3686  10.4370  11.6697  13.4921  13.3398   \n",
       "4   0 -0.998627  12.8595  10.3688  10.4374  11.6699  13.4919  13.3390   \n",
       "\n",
       "        R7       R8    Temp.  Humidity  \n",
       "0  8.04169  8.73901  26.2257   59.0528  \n",
       "1  8.04133  8.73908  26.2308   59.0299  \n",
       "2  8.04101  8.73915  26.2365   59.0093  \n",
       "3  8.04086  8.73936  26.2416   58.9905  \n",
       "4  8.04087  8.73986  26.2462   58.9736  "
      ]
     },
     "execution_count": 7,
     "metadata": {},
     "output_type": "execute_result"
    }
   ],
   "source": [
    "sensor_d.head()"
   ]
  },
  {
   "cell_type": "code",
   "execution_count": 8,
   "metadata": {},
   "outputs": [
    {
     "name": "stdout",
     "output_type": "stream",
     "text": [
      "<class 'pandas.core.frame.DataFrame'>\n",
      "RangeIndex: 928991 entries, 0 to 928990\n",
      "Data columns (total 12 columns):\n",
      " #   Column    Non-Null Count   Dtype  \n",
      "---  ------    --------------   -----  \n",
      " 0   id        928991 non-null  int64  \n",
      " 1   time      928991 non-null  float64\n",
      " 2   R1        928991 non-null  float64\n",
      " 3   R2        928991 non-null  float64\n",
      " 4   R3        928991 non-null  float64\n",
      " 5   R4        928991 non-null  float64\n",
      " 6   R5        928991 non-null  float64\n",
      " 7   R6        928991 non-null  float64\n",
      " 8   R7        928991 non-null  float64\n",
      " 9   R8        928991 non-null  float64\n",
      " 10  Temp.     928991 non-null  float64\n",
      " 11  Humidity  928991 non-null  float64\n",
      "dtypes: float64(11), int64(1)\n",
      "memory usage: 85.1 MB\n"
     ]
    }
   ],
   "source": [
    "sensor_d.info()"
   ]
  },
  {
   "cell_type": "code",
   "execution_count": 9,
   "metadata": {},
   "outputs": [
    {
     "data": {
      "text/html": [
       "<div>\n",
       "<style scoped>\n",
       "    .dataframe tbody tr th:only-of-type {\n",
       "        vertical-align: middle;\n",
       "    }\n",
       "\n",
       "    .dataframe tbody tr th {\n",
       "        vertical-align: top;\n",
       "    }\n",
       "\n",
       "    .dataframe thead th {\n",
       "        text-align: right;\n",
       "    }\n",
       "</style>\n",
       "<table border=\"1\" class=\"dataframe\">\n",
       "  <thead>\n",
       "    <tr style=\"text-align: right;\">\n",
       "      <th></th>\n",
       "      <th>id</th>\n",
       "      <th>time</th>\n",
       "      <th>R1</th>\n",
       "      <th>R2</th>\n",
       "      <th>R3</th>\n",
       "      <th>R4</th>\n",
       "      <th>R5</th>\n",
       "      <th>R6</th>\n",
       "      <th>R7</th>\n",
       "      <th>R8</th>\n",
       "      <th>Temp.</th>\n",
       "      <th>Humidity</th>\n",
       "    </tr>\n",
       "  </thead>\n",
       "  <tbody>\n",
       "    <tr>\n",
       "      <th>count</th>\n",
       "      <td>928991.000000</td>\n",
       "      <td>928991.000000</td>\n",
       "      <td>928991.000000</td>\n",
       "      <td>928991.000000</td>\n",
       "      <td>928991.000000</td>\n",
       "      <td>928991.000000</td>\n",
       "      <td>928991.000000</td>\n",
       "      <td>928991.000000</td>\n",
       "      <td>928991.000000</td>\n",
       "      <td>928991.000000</td>\n",
       "      <td>928991.000000</td>\n",
       "      <td>928991.000000</td>\n",
       "    </tr>\n",
       "    <tr>\n",
       "      <th>mean</th>\n",
       "      <td>49.256372</td>\n",
       "      <td>0.403261</td>\n",
       "      <td>12.185350</td>\n",
       "      <td>8.958396</td>\n",
       "      <td>8.945006</td>\n",
       "      <td>10.130319</td>\n",
       "      <td>15.154167</td>\n",
       "      <td>16.052371</td>\n",
       "      <td>5.390618</td>\n",
       "      <td>5.912815</td>\n",
       "      <td>27.283373</td>\n",
       "      <td>57.568023</td>\n",
       "    </tr>\n",
       "    <tr>\n",
       "      <th>std</th>\n",
       "      <td>28.453089</td>\n",
       "      <td>0.859865</td>\n",
       "      <td>0.868116</td>\n",
       "      <td>1.558196</td>\n",
       "      <td>1.748622</td>\n",
       "      <td>1.711879</td>\n",
       "      <td>18.391606</td>\n",
       "      <td>3.303089</td>\n",
       "      <td>2.889244</td>\n",
       "      <td>3.304284</td>\n",
       "      <td>0.904537</td>\n",
       "      <td>4.821784</td>\n",
       "    </tr>\n",
       "    <tr>\n",
       "      <th>min</th>\n",
       "      <td>0.000000</td>\n",
       "      <td>-0.999999</td>\n",
       "      <td>5.431460</td>\n",
       "      <td>1.820660</td>\n",
       "      <td>1.626900</td>\n",
       "      <td>2.282920</td>\n",
       "      <td>1.901290</td>\n",
       "      <td>5.587950</td>\n",
       "      <td>1.220370</td>\n",
       "      <td>1.430530</td>\n",
       "      <td>24.434400</td>\n",
       "      <td>44.660400</td>\n",
       "    </tr>\n",
       "    <tr>\n",
       "      <th>25%</th>\n",
       "      <td>25.000000</td>\n",
       "      <td>-0.320817</td>\n",
       "      <td>11.980000</td>\n",
       "      <td>8.298835</td>\n",
       "      <td>8.273455</td>\n",
       "      <td>9.347275</td>\n",
       "      <td>10.244600</td>\n",
       "      <td>14.780400</td>\n",
       "      <td>4.430490</td>\n",
       "      <td>4.877900</td>\n",
       "      <td>26.764900</td>\n",
       "      <td>53.938100</td>\n",
       "    </tr>\n",
       "    <tr>\n",
       "      <th>50%</th>\n",
       "      <td>49.000000</td>\n",
       "      <td>0.366136</td>\n",
       "      <td>12.404700</td>\n",
       "      <td>9.462680</td>\n",
       "      <td>9.564520</td>\n",
       "      <td>10.651800</td>\n",
       "      <td>11.683500</td>\n",
       "      <td>16.521200</td>\n",
       "      <td>5.389800</td>\n",
       "      <td>5.799340</td>\n",
       "      <td>27.328400</td>\n",
       "      <td>57.180800</td>\n",
       "    </tr>\n",
       "    <tr>\n",
       "      <th>75%</th>\n",
       "      <td>73.000000</td>\n",
       "      <td>1.055152</td>\n",
       "      <td>12.715500</td>\n",
       "      <td>10.095900</td>\n",
       "      <td>10.207900</td>\n",
       "      <td>11.400000</td>\n",
       "      <td>13.784400</td>\n",
       "      <td>17.353100</td>\n",
       "      <td>5.989300</td>\n",
       "      <td>6.585930</td>\n",
       "      <td>27.868700</td>\n",
       "      <td>60.563500</td>\n",
       "    </tr>\n",
       "    <tr>\n",
       "      <th>max</th>\n",
       "      <td>99.000000</td>\n",
       "      <td>3.309882</td>\n",
       "      <td>13.733300</td>\n",
       "      <td>11.315500</td>\n",
       "      <td>11.374200</td>\n",
       "      <td>12.754800</td>\n",
       "      <td>378.750000</td>\n",
       "      <td>73.817800</td>\n",
       "      <td>102.575000</td>\n",
       "      <td>99.888100</td>\n",
       "      <td>30.325400</td>\n",
       "      <td>77.680500</td>\n",
       "    </tr>\n",
       "  </tbody>\n",
       "</table>\n",
       "</div>"
      ],
      "text/plain": [
       "                  id           time             R1             R2  \\\n",
       "count  928991.000000  928991.000000  928991.000000  928991.000000   \n",
       "mean       49.256372       0.403261      12.185350       8.958396   \n",
       "std        28.453089       0.859865       0.868116       1.558196   \n",
       "min         0.000000      -0.999999       5.431460       1.820660   \n",
       "25%        25.000000      -0.320817      11.980000       8.298835   \n",
       "50%        49.000000       0.366136      12.404700       9.462680   \n",
       "75%        73.000000       1.055152      12.715500      10.095900   \n",
       "max        99.000000       3.309882      13.733300      11.315500   \n",
       "\n",
       "                  R3             R4             R5             R6  \\\n",
       "count  928991.000000  928991.000000  928991.000000  928991.000000   \n",
       "mean        8.945006      10.130319      15.154167      16.052371   \n",
       "std         1.748622       1.711879      18.391606       3.303089   \n",
       "min         1.626900       2.282920       1.901290       5.587950   \n",
       "25%         8.273455       9.347275      10.244600      14.780400   \n",
       "50%         9.564520      10.651800      11.683500      16.521200   \n",
       "75%        10.207900      11.400000      13.784400      17.353100   \n",
       "max        11.374200      12.754800     378.750000      73.817800   \n",
       "\n",
       "                  R7             R8          Temp.       Humidity  \n",
       "count  928991.000000  928991.000000  928991.000000  928991.000000  \n",
       "mean        5.390618       5.912815      27.283373      57.568023  \n",
       "std         2.889244       3.304284       0.904537       4.821784  \n",
       "min         1.220370       1.430530      24.434400      44.660400  \n",
       "25%         4.430490       4.877900      26.764900      53.938100  \n",
       "50%         5.389800       5.799340      27.328400      57.180800  \n",
       "75%         5.989300       6.585930      27.868700      60.563500  \n",
       "max       102.575000      99.888100      30.325400      77.680500  "
      ]
     },
     "execution_count": 9,
     "metadata": {},
     "output_type": "execute_result"
    }
   ],
   "source": [
    "sensor_d.describe()"
   ]
  },
  {
   "cell_type": "markdown",
   "metadata": {},
   "source": [
    " "
   ]
  },
  {
   "cell_type": "markdown",
   "metadata": {},
   "source": [
    "* Frecuencia cada clase en experimentos:"
   ]
  },
  {
   "cell_type": "code",
   "execution_count": 10,
   "metadata": {},
   "outputs": [
    {
     "data": {
      "text/plain": [
       "<AxesSubplot:>"
      ]
     },
     "execution_count": 10,
     "metadata": {},
     "output_type": "execute_result"
    },
    {
     "data": {
      "image/png": "[encoded data removed]",
      "text/plain": [
       "<Figure size 432x288 with 1 Axes>"
      ]
     },
     "metadata": {
      "needs_background": "light"
     },
     "output_type": "display_data"
    }
   ],
   "source": [
    "sensor_m[\"class\"].hist()"
   ]
  },
  {
   "cell_type": "markdown",
   "metadata": {},
   "source": [
    "* Numero de medidas tomadas en sensor_d por experimento"
   ]
  },
  {
   "cell_type": "code",
   "execution_count": 11,
   "metadata": {},
   "outputs": [
    {
     "name": "stdout",
     "output_type": "stream",
     "text": [
      "38    15393\n",
      "32    14148\n",
      "25    13441\n",
      "39    13174\n",
      "57    13140\n",
      "      ...  \n",
      "11     6526\n",
      "20     6174\n",
      "4      5396\n",
      "14     4922\n",
      "76     3825\n",
      "Name: id, Length: 99, dtype: int64\n"
     ]
    },
    {
     "data": {
      "text/plain": [
       "<AxesSubplot:>"
      ]
     },
     "execution_count": 11,
     "metadata": {},
     "output_type": "execute_result"
    },
    {
     "data": {
      "image/png": "[encoded data removed]",
      "text/plain": [
       "<Figure size 432x288 with 1 Axes>"
      ]
     },
     "metadata": {
      "needs_background": "light"
     },
     "output_type": "display_data"
    }
   ],
   "source": [
    "# Frecuencia de datos en sensor_d por experimento\n",
    "print(sensor_d.id.value_counts())\n",
    "sensor_d[\"id\"].hist(bins=len(sensor_m))"
   ]
  },
  {
   "cell_type": "markdown",
   "metadata": {},
   "source": [
    "* Gráficas para sensores, temperatura y humedad para cada experimento:"
   ]
  },
  {
   "cell_type": "code",
   "execution_count": 12,
   "metadata": {},
   "outputs": [],
   "source": [
    "# Sensores R, temperatura y humedad para caso concreto (id = X)\n",
    "def graficasSensores(id=38):\n",
    "    sensor_d_X = sensor_d[sensor_d.id==id]\n",
    "    # Sensores\n",
    "    fig, axs = plt.subplots(8)\n",
    "    fig.suptitle('Sensores R1-R8, id='+str(id)+\", \"+sensor_m[sensor_m.id==id][\"class\"].values[0])\n",
    "    for i in range(8):\n",
    "        axs[i].plot(sensor_d_X.iloc[:,i+2])\n",
    "        axs[i].set_title(\"R\"+str(i+1))\n",
    "\n",
    "def graficaTemp(id=38):\n",
    "    sensor_d_X = sensor_d[sensor_d.id==id]\n",
    "    # Temperatura\n",
    "    plt.title(\"Temperature, id=\"+str(id)+\", \"+sensor_m[sensor_m.id==id][\"class\"].values[0])\n",
    "    plt.xlabel(\"Num. Experimento\")\n",
    "    plt.ylabel(\"Grados ºC\")\n",
    "    sensor_d_X[\"Temp.\"].plot()\n",
    "    \n",
    "def graficaHum(id=38):\n",
    "    sensor_d_X = sensor_d[sensor_d.id==id]\n",
    "    # Humedad\n",
    "    plt.title(\"Humidity, id=\"+str(id)+\", \"+sensor_m[sensor_m.id==id][\"class\"].values[0])\n",
    "    plt.xlabel(\"Num. Experimento\")\n",
    "    plt.ylabel(\"% Humidity\")\n",
    "    sensor_d_X[\"Humidity\"].plot()"
   ]
  },
  {
   "cell_type": "code",
   "execution_count": 13,
   "metadata": {},
   "outputs": [
    {
     "data": {
      "image/png": "[encoded data removed]",
      "text/plain": [
       "<Figure size 432x288 with 8 Axes>"
      ]
     },
     "metadata": {
      "needs_background": "light"
     },
     "output_type": "display_data"
    }
   ],
   "source": [
    "graficasSensores()"
   ]
  },
  {
   "cell_type": "code",
   "execution_count": 14,
   "metadata": {},
   "outputs": [
    {
     "data": {
      "image/png": "[encoded data removed]",
      "text/plain": [
       "<Figure size 432x288 with 1 Axes>"
      ]
     },
     "metadata": {
      "needs_background": "light"
     },
     "output_type": "display_data"
    }
   ],
   "source": [
    "graficaTemp()"
   ]
  },
  {
   "cell_type": "code",
   "execution_count": 15,
   "metadata": {},
   "outputs": [
    {
     "data": {
      "image/png": "[encoded data removed]",
      "text/plain": [
       "<Figure size 432x288 with 1 Axes>"
      ]
     },
     "metadata": {
      "needs_background": "light"
     },
     "output_type": "display_data"
    }
   ],
   "source": [
    "graficaHum()"
   ]
  },
  {
   "cell_type": "markdown",
   "metadata": {},
   "source": [
    "* Grafica temperatura vs humedad media"
   ]
  },
  {
   "cell_type": "code",
   "execution_count": 16,
   "metadata": {},
   "outputs": [],
   "source": [
    "def plotTempHum(poblacion, c):\n",
    "    plt.scatter(poblacion.groupby(\"id\")[\"Temp.\"].mean(), \n",
    "                poblacion.groupby(\"id\")[\"Humidity\"].mean(),\n",
    "                c=c)\n",
    "    plt.xlabel(\"Grados ºC\")\n",
    "    plt.ylabel(\"% Humidity\")"
   ]
  },
  {
   "cell_type": "code",
   "execution_count": 17,
   "metadata": {},
   "outputs": [
    {
     "data": {
      "image/png": "[encoded data removed]",
      "text/plain": [
       "<Figure size 432x288 with 1 Axes>"
      ]
     },
     "metadata": {
      "needs_background": "light"
     },
     "output_type": "display_data"
    }
   ],
   "source": [
    "# Lista con colores segun clase    \n",
    "color = {'wine':'r', 'banana':'g', 'background':'b'}\n",
    "sensor_m_color = [color[c] for c in sensor_m[\"class\"]]\n",
    "sensor_m_color.pop(95) # Elimino caso NaN\n",
    "\n",
    "plotTempHum(sensor_d, sensor_m_color)"
   ]
  }
 ],
 "metadata": {
  "kernelspec": {
   "display_name": "Python 3",
   "language": "python",
   "name": "python3"
  },
  "language_info": {
   "codemirror_mode": {
    "name": "ipython",
    "version": 3
   },
   "file_extension": ".py",
   "mimetype": "text/x-python",
   "name": "python",
   "nbconvert_exporter": "python",
   "pygments_lexer": "ipython3",
   "version": "3.9.0"
  }
 },
 "nbformat": 4,
 "nbformat_minor": 4
}
